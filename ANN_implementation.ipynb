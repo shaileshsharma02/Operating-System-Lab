{
  "nbformat": 4,
  "nbformat_minor": 0,
  "metadata": {
    "colab": {
      "provenance": [],
      "authorship_tag": "ABX9TyOMcIGDjGRGU1UBD+yvIFEP",
      "include_colab_link": true
    },
    "kernelspec": {
      "name": "python3",
      "display_name": "Python 3"
    },
    "language_info": {
      "name": "python"
    }
  },
  "cells": [
    {
      "cell_type": "markdown",
      "metadata": {
        "id": "view-in-github",
        "colab_type": "text"
      },
      "source": [
        "<a href=\"https://colab.research.google.com/github/rohanwadia/ML---LAB/blob/main/ANN_implementation.ipynb\" target=\"_parent\"><img src=\"https://colab.research.google.com/assets/colab-badge.svg\" alt=\"Open In Colab\"/></a>"
      ]
    },
    {
      "cell_type": "code",
      "execution_count": 2,
      "metadata": {
        "colab": {
          "base_uri": "https://localhost:8080/"
        },
        "id": "wyGYSwoQaio6",
        "outputId": "486ec48e-6677-451a-afe2-2503782beb82"
      },
      "outputs": [
        {
          "output_type": "stream",
          "name": "stdout",
          "text": [
            "Downloading data from https://storage.googleapis.com/tensorflow/tf-keras-datasets/mnist.npz\n",
            "11490434/11490434 [==============================] - 0s 0us/step\n"
          ]
        }
      ],
      "source": [
        "from keras.datasets import mnist\n",
        "(train_images, train_labels), (test_images, test_labels) = mnist.load_data()"
      ]
    },
    {
      "cell_type": "code",
      "source": [
        "train_images.shape\n",
        "len(train_labels)\n",
        "train_labels\n",
        "test_images.shape\n",
        "len(test_labels)\n",
        "test_labels\n"
      ],
      "metadata": {
        "colab": {
          "base_uri": "https://localhost:8080/"
        },
        "id": "5B2BfH1Ta3_g",
        "outputId": "903c7c74-c2d3-440e-c11e-ecf9aac029ac"
      },
      "execution_count": 3,
      "outputs": [
        {
          "output_type": "execute_result",
          "data": {
            "text/plain": [
              "array([7, 2, 1, ..., 4, 5, 6], dtype=uint8)"
            ]
          },
          "metadata": {},
          "execution_count": 3
        }
      ]
    },
    {
      "cell_type": "markdown",
      "source": [
        "The Network Architecture\n"
      ],
      "metadata": {
        "id": "8GZb4j1hbB8P"
      }
    },
    {
      "cell_type": "code",
      "source": [
        "from keras import models\n",
        "from keras import layers\n",
        "network = models.Sequential()\n",
        "# Dense(32) is a fully-connected layer with 32 hidden units.\n",
        "# in the first layer, you must specify the expected input data shape :\n",
        "# here, 28 X 28=784 -dimensional vectors.\n",
        "network.add(layers.Dense(32, activation='sigmoid', input_shape=(28 * 28, )))\n",
        "network.add(layers.Dense(8, activation='sigmoid'))\n",
        "network.add(layers.Dense(10, activation='softmax'))\n",
        "network.summary()\n",
        "from google.colab import drive\n",
        "drive.mount('/content/drive')"
      ],
      "metadata": {
        "colab": {
          "base_uri": "https://localhost:8080/"
        },
        "id": "uWrkqDF-bGZw",
        "outputId": "d21ed3b5-b3c6-4707-f9f4-038185a22ab4"
      },
      "execution_count": 15,
      "outputs": [
        {
          "output_type": "stream",
          "name": "stdout",
          "text": [
            "Model: \"sequential_5\"\n",
            "_________________________________________________________________\n",
            " Layer (type)                Output Shape              Param #   \n",
            "=================================================================\n",
            " dense_15 (Dense)            (None, 32)                25120     \n",
            "                                                                 \n",
            " dense_16 (Dense)            (None, 8)                 264       \n",
            "                                                                 \n",
            " dense_17 (Dense)            (None, 10)                90        \n",
            "                                                                 \n",
            "=================================================================\n",
            "Total params: 25474 (99.51 KB)\n",
            "Trainable params: 25474 (99.51 KB)\n",
            "Non-trainable params: 0 (0.00 Byte)\n",
            "_________________________________________________________________\n",
            "Mounted at /content/drive\n"
          ]
        }
      ]
    },
    {
      "cell_type": "markdown",
      "source": [
        "The Compilation Step"
      ],
      "metadata": {
        "id": "tvXgaDk8bY0Z"
      }
    },
    {
      "cell_type": "code",
      "source": [
        "network.compile(optimizer='sgd',\n",
        "                loss='categorical_crossentropy',\n",
        "                metrics=['accuracy'])"
      ],
      "metadata": {
        "id": "o4ef5-BGbhdw"
      },
      "execution_count": 7,
      "outputs": []
    },
    {
      "cell_type": "markdown",
      "source": [
        "Preparing the Image Data"
      ],
      "metadata": {
        "id": "4YtsJ3HAbmMQ"
      }
    },
    {
      "cell_type": "code",
      "source": [
        "train_images = train_images.reshape((60000, 28 * 28))\n",
        "train_images = train_images.astype('float32') / 255.\n",
        "test_images = test_images.reshape((10000, 28 * 28))\n",
        "test_images = test_images.astype('float32') / 255."
      ],
      "metadata": {
        "id": "J4QH_tJIbrMI"
      },
      "execution_count": 8,
      "outputs": []
    },
    {
      "cell_type": "markdown",
      "source": [
        "Preparing the Labels"
      ],
      "metadata": {
        "id": "lwVj0de3bv8R"
      }
    },
    {
      "cell_type": "code",
      "source": [
        "from keras.utils import to_categorical\n",
        "train_labels = to_categorical(train_labels)\n",
        "train_labels\n",
        "test_labels = to_categorical(test_labels)\n",
        "test_labels"
      ],
      "metadata": {
        "colab": {
          "base_uri": "https://localhost:8080/"
        },
        "id": "g1lANbeZbzEo",
        "outputId": "71723f79-b9a4-4308-9e36-71c5a39a89ea"
      },
      "execution_count": 9,
      "outputs": [
        {
          "output_type": "execute_result",
          "data": {
            "text/plain": [
              "array([[0., 0., 0., ..., 1., 0., 0.],\n",
              "       [0., 0., 1., ..., 0., 0., 0.],\n",
              "       [0., 1., 0., ..., 0., 0., 0.],\n",
              "       ...,\n",
              "       [0., 0., 0., ..., 0., 0., 0.],\n",
              "       [0., 0., 0., ..., 0., 0., 0.],\n",
              "       [0., 0., 0., ..., 0., 0., 0.]], dtype=float32)"
            ]
          },
          "metadata": {},
          "execution_count": 9
        }
      ]
    },
    {
      "cell_type": "markdown",
      "source": [
        "Training and Testing"
      ],
      "metadata": {
        "id": "HBgQlAm7b3Fv"
      }
    },
    {
      "cell_type": "code",
      "source": [
        "network.fit(train_images, train_labels, epochs=160, batch_size=512)"
      ],
      "metadata": {
        "colab": {
          "base_uri": "https://localhost:8080/"
        },
        "id": "OSrinRz9b5kA",
        "outputId": "8127146d-aa77-49bd-c199-757fa71bead0"
      },
      "execution_count": 10,
      "outputs": [
        {
          "output_type": "stream",
          "name": "stdout",
          "text": [
            "Epoch 1/160\n",
            "118/118 [==============================] - 2s 6ms/step - loss: 2.3794 - accuracy: 0.0975\n",
            "Epoch 2/160\n",
            "118/118 [==============================] - 1s 5ms/step - loss: 2.3258 - accuracy: 0.1030\n",
            "Epoch 3/160\n",
            "118/118 [==============================] - 1s 5ms/step - loss: 2.3031 - accuracy: 0.1489\n",
            "Epoch 4/160\n",
            "118/118 [==============================] - 1s 5ms/step - loss: 2.2911 - accuracy: 0.1656\n",
            "Epoch 5/160\n",
            "118/118 [==============================] - 1s 5ms/step - loss: 2.2832 - accuracy: 0.1466\n",
            "Epoch 6/160\n",
            "118/118 [==============================] - 1s 5ms/step - loss: 2.2770 - accuracy: 0.1524\n",
            "Epoch 7/160\n",
            "118/118 [==============================] - 1s 6ms/step - loss: 2.2713 - accuracy: 0.1831\n",
            "Epoch 8/160\n",
            "118/118 [==============================] - 1s 7ms/step - loss: 2.2658 - accuracy: 0.2091\n",
            "Epoch 9/160\n",
            "118/118 [==============================] - 1s 8ms/step - loss: 2.2601 - accuracy: 0.2382\n",
            "Epoch 10/160\n",
            "118/118 [==============================] - 1s 6ms/step - loss: 2.2542 - accuracy: 0.2596\n",
            "Epoch 11/160\n",
            "118/118 [==============================] - 1s 5ms/step - loss: 2.2480 - accuracy: 0.2720\n",
            "Epoch 12/160\n",
            "118/118 [==============================] - 1s 5ms/step - loss: 2.2414 - accuracy: 0.2936\n",
            "Epoch 13/160\n",
            "118/118 [==============================] - 1s 5ms/step - loss: 2.2343 - accuracy: 0.3119\n",
            "Epoch 14/160\n",
            "118/118 [==============================] - 1s 5ms/step - loss: 2.2268 - accuracy: 0.3248\n",
            "Epoch 15/160\n",
            "118/118 [==============================] - 1s 4ms/step - loss: 2.2187 - accuracy: 0.3333\n",
            "Epoch 16/160\n",
            "118/118 [==============================] - 1s 4ms/step - loss: 2.2100 - accuracy: 0.3452\n",
            "Epoch 17/160\n",
            "118/118 [==============================] - 1s 4ms/step - loss: 2.2008 - accuracy: 0.3553\n",
            "Epoch 18/160\n",
            "118/118 [==============================] - 1s 4ms/step - loss: 2.1909 - accuracy: 0.3641\n",
            "Epoch 19/160\n",
            "118/118 [==============================] - 1s 4ms/step - loss: 2.1803 - accuracy: 0.3773\n",
            "Epoch 20/160\n",
            "118/118 [==============================] - 1s 5ms/step - loss: 2.1690 - accuracy: 0.3832\n",
            "Epoch 21/160\n",
            "118/118 [==============================] - 1s 4ms/step - loss: 2.1569 - accuracy: 0.3886\n",
            "Epoch 22/160\n",
            "118/118 [==============================] - 1s 5ms/step - loss: 2.1442 - accuracy: 0.3923\n",
            "Epoch 23/160\n",
            "118/118 [==============================] - 1s 4ms/step - loss: 2.1307 - accuracy: 0.4021\n",
            "Epoch 24/160\n",
            "118/118 [==============================] - 1s 4ms/step - loss: 2.1165 - accuracy: 0.4069\n",
            "Epoch 25/160\n",
            "118/118 [==============================] - 1s 5ms/step - loss: 2.1015 - accuracy: 0.4083\n",
            "Epoch 26/160\n",
            "118/118 [==============================] - 1s 5ms/step - loss: 2.0859 - accuracy: 0.4135\n",
            "Epoch 27/160\n",
            "118/118 [==============================] - 1s 5ms/step - loss: 2.0697 - accuracy: 0.4193\n",
            "Epoch 28/160\n",
            "118/118 [==============================] - 1s 5ms/step - loss: 2.0529 - accuracy: 0.4214\n",
            "Epoch 29/160\n",
            "118/118 [==============================] - 1s 7ms/step - loss: 2.0356 - accuracy: 0.4271\n",
            "Epoch 30/160\n",
            "118/118 [==============================] - 1s 8ms/step - loss: 2.0178 - accuracy: 0.4300\n",
            "Epoch 31/160\n",
            "118/118 [==============================] - 1s 7ms/step - loss: 1.9995 - accuracy: 0.4348\n",
            "Epoch 32/160\n",
            "118/118 [==============================] - 1s 5ms/step - loss: 1.9808 - accuracy: 0.4405\n",
            "Epoch 33/160\n",
            "118/118 [==============================] - 1s 7ms/step - loss: 1.9617 - accuracy: 0.4437\n",
            "Epoch 34/160\n",
            "118/118 [==============================] - 1s 5ms/step - loss: 1.9423 - accuracy: 0.4478\n",
            "Epoch 35/160\n",
            "118/118 [==============================] - 1s 4ms/step - loss: 1.9226 - accuracy: 0.4529\n",
            "Epoch 36/160\n",
            "118/118 [==============================] - 1s 5ms/step - loss: 1.9026 - accuracy: 0.4590\n",
            "Epoch 37/160\n",
            "118/118 [==============================] - 1s 4ms/step - loss: 1.8823 - accuracy: 0.4636\n",
            "Epoch 38/160\n",
            "118/118 [==============================] - 1s 5ms/step - loss: 1.8619 - accuracy: 0.4685\n",
            "Epoch 39/160\n",
            "118/118 [==============================] - 1s 4ms/step - loss: 1.8412 - accuracy: 0.4738\n",
            "Epoch 40/160\n",
            "118/118 [==============================] - 1s 4ms/step - loss: 1.8203 - accuracy: 0.4805\n",
            "Epoch 41/160\n",
            "118/118 [==============================] - 1s 4ms/step - loss: 1.7993 - accuracy: 0.4861\n",
            "Epoch 42/160\n",
            "118/118 [==============================] - 1s 7ms/step - loss: 1.7782 - accuracy: 0.4918\n",
            "Epoch 43/160\n",
            "118/118 [==============================] - 1s 7ms/step - loss: 1.7569 - accuracy: 0.4974\n",
            "Epoch 44/160\n",
            "118/118 [==============================] - 1s 8ms/step - loss: 1.7355 - accuracy: 0.5051\n",
            "Epoch 45/160\n",
            "118/118 [==============================] - 1s 7ms/step - loss: 1.7141 - accuracy: 0.5104\n",
            "Epoch 46/160\n",
            "118/118 [==============================] - 1s 8ms/step - loss: 1.6926 - accuracy: 0.5172\n",
            "Epoch 47/160\n",
            "118/118 [==============================] - 1s 10ms/step - loss: 1.6711 - accuracy: 0.5229\n",
            "Epoch 48/160\n",
            "118/118 [==============================] - 1s 7ms/step - loss: 1.6497 - accuracy: 0.5307\n",
            "Epoch 49/160\n",
            "118/118 [==============================] - 1s 7ms/step - loss: 1.6284 - accuracy: 0.5373\n",
            "Epoch 50/160\n",
            "118/118 [==============================] - 1s 4ms/step - loss: 1.6072 - accuracy: 0.5440\n",
            "Epoch 51/160\n",
            "118/118 [==============================] - 1s 4ms/step - loss: 1.5861 - accuracy: 0.5510\n",
            "Epoch 52/160\n",
            "118/118 [==============================] - 1s 4ms/step - loss: 1.5652 - accuracy: 0.5578\n",
            "Epoch 53/160\n",
            "118/118 [==============================] - 1s 4ms/step - loss: 1.5445 - accuracy: 0.5649\n",
            "Epoch 54/160\n",
            "118/118 [==============================] - 1s 6ms/step - loss: 1.5241 - accuracy: 0.5705\n",
            "Epoch 55/160\n",
            "118/118 [==============================] - 1s 9ms/step - loss: 1.5040 - accuracy: 0.5781\n",
            "Epoch 56/160\n",
            "118/118 [==============================] - 1s 9ms/step - loss: 1.4841 - accuracy: 0.5841\n",
            "Epoch 57/160\n",
            "118/118 [==============================] - 1s 9ms/step - loss: 1.4647 - accuracy: 0.5917\n",
            "Epoch 58/160\n",
            "118/118 [==============================] - 1s 9ms/step - loss: 1.4455 - accuracy: 0.5972\n",
            "Epoch 59/160\n",
            "118/118 [==============================] - 1s 9ms/step - loss: 1.4268 - accuracy: 0.6044\n",
            "Epoch 60/160\n",
            "118/118 [==============================] - 1s 9ms/step - loss: 1.4084 - accuracy: 0.6105\n",
            "Epoch 61/160\n",
            "118/118 [==============================] - 1s 10ms/step - loss: 1.3904 - accuracy: 0.6156\n",
            "Epoch 62/160\n",
            "118/118 [==============================] - 1s 12ms/step - loss: 1.3729 - accuracy: 0.6217\n",
            "Epoch 63/160\n",
            "118/118 [==============================] - 1s 12ms/step - loss: 1.3557 - accuracy: 0.6272\n",
            "Epoch 64/160\n",
            "118/118 [==============================] - 1s 8ms/step - loss: 1.3389 - accuracy: 0.6329\n",
            "Epoch 65/160\n",
            "118/118 [==============================] - 1s 6ms/step - loss: 1.3226 - accuracy: 0.6384\n",
            "Epoch 66/160\n",
            "118/118 [==============================] - 1s 9ms/step - loss: 1.3066 - accuracy: 0.6440\n",
            "Epoch 67/160\n",
            "118/118 [==============================] - 1s 10ms/step - loss: 1.2910 - accuracy: 0.6484\n",
            "Epoch 68/160\n",
            "118/118 [==============================] - 1s 8ms/step - loss: 1.2758 - accuracy: 0.6540\n",
            "Epoch 69/160\n",
            "118/118 [==============================] - 1s 8ms/step - loss: 1.2610 - accuracy: 0.6593\n",
            "Epoch 70/160\n",
            "118/118 [==============================] - 1s 5ms/step - loss: 1.2465 - accuracy: 0.6640\n",
            "Epoch 71/160\n",
            "118/118 [==============================] - 1s 4ms/step - loss: 1.2324 - accuracy: 0.6685\n",
            "Epoch 72/160\n",
            "118/118 [==============================] - 1s 5ms/step - loss: 1.2187 - accuracy: 0.6730\n",
            "Epoch 73/160\n",
            "118/118 [==============================] - 1s 4ms/step - loss: 1.2052 - accuracy: 0.6774\n",
            "Epoch 74/160\n",
            "118/118 [==============================] - 1s 5ms/step - loss: 1.1921 - accuracy: 0.6818\n",
            "Epoch 75/160\n",
            "118/118 [==============================] - 0s 4ms/step - loss: 1.1794 - accuracy: 0.6870\n",
            "Epoch 76/160\n",
            "118/118 [==============================] - 1s 5ms/step - loss: 1.1669 - accuracy: 0.6910\n",
            "Epoch 77/160\n",
            "118/118 [==============================] - 1s 6ms/step - loss: 1.1548 - accuracy: 0.6950\n",
            "Epoch 78/160\n",
            "118/118 [==============================] - 1s 6ms/step - loss: 1.1429 - accuracy: 0.6994\n",
            "Epoch 79/160\n",
            "118/118 [==============================] - 1s 7ms/step - loss: 1.1313 - accuracy: 0.7030\n",
            "Epoch 80/160\n",
            "118/118 [==============================] - 1s 7ms/step - loss: 1.1200 - accuracy: 0.7067\n",
            "Epoch 81/160\n",
            "118/118 [==============================] - 1s 4ms/step - loss: 1.1089 - accuracy: 0.7107\n",
            "Epoch 82/160\n",
            "118/118 [==============================] - 1s 4ms/step - loss: 1.0981 - accuracy: 0.7135\n",
            "Epoch 83/160\n",
            "118/118 [==============================] - 1s 4ms/step - loss: 1.0875 - accuracy: 0.7174\n",
            "Epoch 84/160\n",
            "118/118 [==============================] - 1s 5ms/step - loss: 1.0772 - accuracy: 0.7204\n",
            "Epoch 85/160\n",
            "118/118 [==============================] - 1s 5ms/step - loss: 1.0670 - accuracy: 0.7243\n",
            "Epoch 86/160\n",
            "118/118 [==============================] - 1s 5ms/step - loss: 1.0571 - accuracy: 0.7280\n",
            "Epoch 87/160\n",
            "118/118 [==============================] - 1s 5ms/step - loss: 1.0474 - accuracy: 0.7314\n",
            "Epoch 88/160\n",
            "118/118 [==============================] - 1s 4ms/step - loss: 1.0379 - accuracy: 0.7336\n",
            "Epoch 89/160\n",
            "118/118 [==============================] - 1s 5ms/step - loss: 1.0286 - accuracy: 0.7365\n",
            "Epoch 90/160\n",
            "118/118 [==============================] - 1s 5ms/step - loss: 1.0194 - accuracy: 0.7399\n",
            "Epoch 91/160\n",
            "118/118 [==============================] - 1s 5ms/step - loss: 1.0105 - accuracy: 0.7423\n",
            "Epoch 92/160\n",
            "118/118 [==============================] - 1s 5ms/step - loss: 1.0017 - accuracy: 0.7450\n",
            "Epoch 93/160\n",
            "118/118 [==============================] - 1s 5ms/step - loss: 0.9931 - accuracy: 0.7479\n",
            "Epoch 94/160\n",
            "118/118 [==============================] - 1s 4ms/step - loss: 0.9847 - accuracy: 0.7508\n",
            "Epoch 95/160\n",
            "118/118 [==============================] - 1s 5ms/step - loss: 0.9764 - accuracy: 0.7534\n",
            "Epoch 96/160\n",
            "118/118 [==============================] - 1s 4ms/step - loss: 0.9683 - accuracy: 0.7560\n",
            "Epoch 97/160\n",
            "118/118 [==============================] - 1s 4ms/step - loss: 0.9603 - accuracy: 0.7589\n",
            "Epoch 98/160\n",
            "118/118 [==============================] - 1s 4ms/step - loss: 0.9524 - accuracy: 0.7612\n",
            "Epoch 99/160\n",
            "118/118 [==============================] - 1s 7ms/step - loss: 0.9447 - accuracy: 0.7639\n",
            "Epoch 100/160\n",
            "118/118 [==============================] - 1s 7ms/step - loss: 0.9372 - accuracy: 0.7667\n",
            "Epoch 101/160\n",
            "118/118 [==============================] - 1s 7ms/step - loss: 0.9297 - accuracy: 0.7691\n",
            "Epoch 102/160\n",
            "118/118 [==============================] - 1s 7ms/step - loss: 0.9224 - accuracy: 0.7717\n",
            "Epoch 103/160\n",
            "118/118 [==============================] - 1s 7ms/step - loss: 0.9153 - accuracy: 0.7741\n",
            "Epoch 104/160\n",
            "118/118 [==============================] - 1s 11ms/step - loss: 0.9082 - accuracy: 0.7764\n",
            "Epoch 105/160\n",
            "118/118 [==============================] - 1s 12ms/step - loss: 0.9013 - accuracy: 0.7787\n",
            "Epoch 106/160\n",
            "118/118 [==============================] - 1s 11ms/step - loss: 0.8944 - accuracy: 0.7804\n",
            "Epoch 107/160\n",
            "118/118 [==============================] - 1s 12ms/step - loss: 0.8877 - accuracy: 0.7828\n",
            "Epoch 108/160\n",
            "118/118 [==============================] - 1s 12ms/step - loss: 0.8811 - accuracy: 0.7850\n",
            "Epoch 109/160\n",
            "118/118 [==============================] - 2s 15ms/step - loss: 0.8746 - accuracy: 0.7867\n",
            "Epoch 110/160\n",
            "118/118 [==============================] - 2s 18ms/step - loss: 0.8682 - accuracy: 0.7887\n",
            "Epoch 111/160\n",
            "118/118 [==============================] - 2s 19ms/step - loss: 0.8619 - accuracy: 0.7899\n",
            "Epoch 112/160\n",
            "118/118 [==============================] - 1s 11ms/step - loss: 0.8557 - accuracy: 0.7921\n",
            "Epoch 113/160\n",
            "118/118 [==============================] - 1s 11ms/step - loss: 0.8496 - accuracy: 0.7936\n",
            "Epoch 114/160\n",
            "118/118 [==============================] - 1s 13ms/step - loss: 0.8436 - accuracy: 0.7955\n",
            "Epoch 115/160\n",
            "118/118 [==============================] - 1s 9ms/step - loss: 0.8377 - accuracy: 0.7967\n",
            "Epoch 116/160\n",
            "118/118 [==============================] - 1s 7ms/step - loss: 0.8319 - accuracy: 0.7986\n",
            "Epoch 117/160\n",
            "118/118 [==============================] - 1s 5ms/step - loss: 0.8261 - accuracy: 0.8003\n",
            "Epoch 118/160\n",
            "118/118 [==============================] - 1s 5ms/step - loss: 0.8205 - accuracy: 0.8019\n",
            "Epoch 119/160\n",
            "118/118 [==============================] - 1s 4ms/step - loss: 0.8149 - accuracy: 0.8033\n",
            "Epoch 120/160\n",
            "118/118 [==============================] - 1s 4ms/step - loss: 0.8094 - accuracy: 0.8048\n",
            "Epoch 121/160\n",
            "118/118 [==============================] - 1s 4ms/step - loss: 0.8040 - accuracy: 0.8059\n",
            "Epoch 122/160\n",
            "118/118 [==============================] - 1s 5ms/step - loss: 0.7986 - accuracy: 0.8075\n",
            "Epoch 123/160\n",
            "118/118 [==============================] - 1s 7ms/step - loss: 0.7934 - accuracy: 0.8086\n",
            "Epoch 124/160\n",
            "118/118 [==============================] - 1s 7ms/step - loss: 0.7882 - accuracy: 0.8100\n",
            "Epoch 125/160\n",
            "118/118 [==============================] - 1s 7ms/step - loss: 0.7831 - accuracy: 0.8113\n",
            "Epoch 126/160\n",
            "118/118 [==============================] - 1s 6ms/step - loss: 0.7780 - accuracy: 0.8130\n",
            "Epoch 127/160\n",
            "118/118 [==============================] - 1s 5ms/step - loss: 0.7730 - accuracy: 0.8144\n",
            "Epoch 128/160\n",
            "118/118 [==============================] - 1s 5ms/step - loss: 0.7681 - accuracy: 0.8154\n",
            "Epoch 129/160\n",
            "118/118 [==============================] - 1s 4ms/step - loss: 0.7633 - accuracy: 0.8169\n",
            "Epoch 130/160\n",
            "118/118 [==============================] - 1s 5ms/step - loss: 0.7585 - accuracy: 0.8179\n",
            "Epoch 131/160\n",
            "118/118 [==============================] - 1s 5ms/step - loss: 0.7537 - accuracy: 0.8193\n",
            "Epoch 132/160\n",
            "118/118 [==============================] - 1s 4ms/step - loss: 0.7491 - accuracy: 0.8207\n",
            "Epoch 133/160\n",
            "118/118 [==============================] - 0s 4ms/step - loss: 0.7445 - accuracy: 0.8218\n",
            "Epoch 134/160\n",
            "118/118 [==============================] - 1s 5ms/step - loss: 0.7399 - accuracy: 0.8230\n",
            "Epoch 135/160\n",
            "118/118 [==============================] - 1s 4ms/step - loss: 0.7354 - accuracy: 0.8243\n",
            "Epoch 136/160\n",
            "118/118 [==============================] - 1s 4ms/step - loss: 0.7310 - accuracy: 0.8254\n",
            "Epoch 137/160\n",
            "118/118 [==============================] - 1s 4ms/step - loss: 0.7266 - accuracy: 0.8266\n",
            "Epoch 138/160\n",
            "118/118 [==============================] - 1s 4ms/step - loss: 0.7223 - accuracy: 0.8277\n",
            "Epoch 139/160\n",
            "118/118 [==============================] - 1s 4ms/step - loss: 0.7180 - accuracy: 0.8285\n",
            "Epoch 140/160\n",
            "118/118 [==============================] - 1s 4ms/step - loss: 0.7138 - accuracy: 0.8294\n",
            "Epoch 141/160\n",
            "118/118 [==============================] - 1s 5ms/step - loss: 0.7096 - accuracy: 0.8306\n",
            "Epoch 142/160\n",
            "118/118 [==============================] - 1s 4ms/step - loss: 0.7055 - accuracy: 0.8318\n",
            "Epoch 143/160\n",
            "118/118 [==============================] - 1s 5ms/step - loss: 0.7014 - accuracy: 0.8327\n",
            "Epoch 144/160\n",
            "118/118 [==============================] - 1s 5ms/step - loss: 0.6974 - accuracy: 0.8338\n",
            "Epoch 145/160\n",
            "118/118 [==============================] - 1s 7ms/step - loss: 0.6934 - accuracy: 0.8349\n",
            "Epoch 146/160\n",
            "118/118 [==============================] - 1s 8ms/step - loss: 0.6894 - accuracy: 0.8358\n",
            "Epoch 147/160\n",
            "118/118 [==============================] - 1s 8ms/step - loss: 0.6856 - accuracy: 0.8368\n",
            "Epoch 148/160\n",
            "118/118 [==============================] - 1s 5ms/step - loss: 0.6817 - accuracy: 0.8379\n",
            "Epoch 149/160\n",
            "118/118 [==============================] - 1s 4ms/step - loss: 0.6779 - accuracy: 0.8388\n",
            "Epoch 150/160\n",
            "118/118 [==============================] - 1s 4ms/step - loss: 0.6741 - accuracy: 0.8397\n",
            "Epoch 151/160\n",
            "118/118 [==============================] - 1s 5ms/step - loss: 0.6704 - accuracy: 0.8405\n",
            "Epoch 152/160\n",
            "118/118 [==============================] - 1s 4ms/step - loss: 0.6667 - accuracy: 0.8414\n",
            "Epoch 153/160\n",
            "118/118 [==============================] - 1s 4ms/step - loss: 0.6630 - accuracy: 0.8423\n",
            "Epoch 154/160\n",
            "118/118 [==============================] - 1s 4ms/step - loss: 0.6594 - accuracy: 0.8431\n",
            "Epoch 155/160\n",
            "118/118 [==============================] - 1s 5ms/step - loss: 0.6558 - accuracy: 0.8441\n",
            "Epoch 156/160\n",
            "118/118 [==============================] - 1s 5ms/step - loss: 0.6523 - accuracy: 0.8447\n",
            "Epoch 157/160\n",
            "118/118 [==============================] - 1s 4ms/step - loss: 0.6488 - accuracy: 0.8460\n",
            "Epoch 158/160\n",
            "118/118 [==============================] - 1s 4ms/step - loss: 0.6453 - accuracy: 0.8467\n",
            "Epoch 159/160\n",
            "118/118 [==============================] - 1s 4ms/step - loss: 0.6419 - accuracy: 0.8475\n",
            "Epoch 160/160\n",
            "118/118 [==============================] - 1s 5ms/step - loss: 0.6385 - accuracy: 0.8486\n"
          ]
        },
        {
          "output_type": "execute_result",
          "data": {
            "text/plain": [
              "<keras.src.callbacks.History at 0x79d8168947f0>"
            ]
          },
          "metadata": {},
          "execution_count": 10
        }
      ]
    },
    {
      "cell_type": "code",
      "source": [
        "test_loss, test_acc = network.evaluate(test_images, test_labels)\n",
        "print('Test Accuracy: {:.5f} '.format(test_acc))\n",
        "test_acc"
      ],
      "metadata": {
        "colab": {
          "base_uri": "https://localhost:8080/"
        },
        "id": "P5M6ZO_wcB9f",
        "outputId": "88e8bb27-3115-492c-a56d-766c7fbf2d80"
      },
      "execution_count": 11,
      "outputs": [
        {
          "output_type": "stream",
          "name": "stdout",
          "text": [
            "313/313 [==============================] - 1s 1ms/step - loss: 0.6281 - accuracy: 0.8520\n",
            "Test Accuracy: 0.85200 \n"
          ]
        },
        {
          "output_type": "execute_result",
          "data": {
            "text/plain": [
              "0.8519999980926514"
            ]
          },
          "metadata": {},
          "execution_count": 11
        }
      ]
    },
    {
      "cell_type": "code",
      "source": [
        "from keras.utils import plot_model\n",
        "plot_model(network, to_file='model.png')\n",
        "import matplotlib.pyplot as plt\n",
        "history =network.fit(train_images, train_labels, validation_split=0.33,epochs=5, batch_size=512)\n",
        "history_dict = history.history\n",
        "print(history_dict.keys())\n",
        "plt.plot(history.history['accuracy'])\n",
        "plt.plot(history.history['val_accuracy'])\n",
        "plt.title('Model accuracy')\n",
        "plt.ylabel('Accuracy')\n",
        "plt.xlabel('Epoch')\n",
        "plt.legend(['Train', 'Test'], loc='upper left')\n",
        "plt.show()\n",
        "\n",
        "\n",
        "# Plot training & validation loss values\n",
        "plt.plot(history.history['loss'])\n",
        "plt.plot(history.history['val_loss'])\n",
        "plt.title('Model loss')\n",
        "plt.ylabel('Loss')\n",
        "plt.xlabel('Epoch')\n",
        "plt.legend(['Train', 'Test'], loc='upper left')\n",
        "plt.show()\n"
      ],
      "metadata": {
        "colab": {
          "base_uri": "https://localhost:8080/",
          "height": 1000
        },
        "id": "gBT-oqm-cNI3",
        "outputId": "26607145-3ebf-4257-c452-8a50ca39cc5b"
      },
      "execution_count": 12,
      "outputs": [
        {
          "output_type": "stream",
          "name": "stdout",
          "text": [
            "Epoch 1/5\n",
            "79/79 [==============================] - 1s 12ms/step - loss: 0.6407 - accuracy: 0.8473 - val_loss: 0.6242 - val_accuracy: 0.8527\n",
            "Epoch 2/5\n",
            "79/79 [==============================] - 1s 12ms/step - loss: 0.6385 - accuracy: 0.8479 - val_loss: 0.6221 - val_accuracy: 0.8531\n",
            "Epoch 3/5\n",
            "79/79 [==============================] - 1s 11ms/step - loss: 0.6362 - accuracy: 0.8482 - val_loss: 0.6199 - val_accuracy: 0.8535\n",
            "Epoch 4/5\n",
            "79/79 [==============================] - 0s 6ms/step - loss: 0.6339 - accuracy: 0.8492 - val_loss: 0.6178 - val_accuracy: 0.8543\n",
            "Epoch 5/5\n",
            "79/79 [==============================] - 0s 6ms/step - loss: 0.6317 - accuracy: 0.8498 - val_loss: 0.6157 - val_accuracy: 0.8546\n",
            "dict_keys(['loss', 'accuracy', 'val_loss', 'val_accuracy'])\n"
          ]
        },
        {
          "output_type": "display_data",
          "data": {
            "text/plain": [
              "<Figure size 640x480 with 1 Axes>"
            ],
            "image/png": "[encoded data removed]"
          },
          "metadata": {}
        },
        {
          "output_type": "display_data",
          "data": {
            "text/plain": [
              "<Figure size 640x480 with 1 Axes>"
            ],
            "image/png": "[encoded data removed]"
          },
          "metadata": {}
        }
      ]
    }
  ]
}